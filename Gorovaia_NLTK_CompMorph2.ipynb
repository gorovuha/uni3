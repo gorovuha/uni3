{
  "cells": [
    {
      "cell_type": "code",
      "execution_count": null,
      "metadata": {
        "id": "sUCN6UgoS0a0"
      },
      "outputs": [],
      "source": [
        "https://www.nltk.org/howto/tag.html"
      ]
    },
    {
      "cell_type": "code",
      "execution_count": 6,
      "metadata": {
        "id": "vtD2w-ujS0a3",
        "colab": {
          "base_uri": "https://localhost:8080/"
        },
        "outputId": "c44cf7dc-6c83-45c1-c98b-3c8bd5f69cea"
      },
      "outputs": [
        {
          "output_type": "stream",
          "name": "stderr",
          "text": [
            "[nltk_data] Downloading package averaged_perceptron_tagger to\n",
            "[nltk_data]     /root/nltk_data...\n",
            "[nltk_data]   Package averaged_perceptron_tagger is already up-to-\n",
            "[nltk_data]       date!\n",
            "[nltk_data] Downloading package treebank to /root/nltk_data...\n",
            "[nltk_data]   Unzipping corpora/treebank.zip.\n"
          ]
        },
        {
          "output_type": "execute_result",
          "data": {
            "text/plain": [
              "True"
            ]
          },
          "metadata": {},
          "execution_count": 6
        }
      ],
      "source": [
        "import nltk\n",
        "nltk.download('averaged_perceptron_tagger')\n",
        "nltk.download('treebank')"
      ]
    },
    {
      "cell_type": "code",
      "execution_count": 25,
      "metadata": {
        "id": "WFsmP5uRS0a4",
        "outputId": "6a6fe85a-2c48-4b9c-d777-29e2369fd5ec",
        "colab": {
          "base_uri": "https://localhost:8080/"
        }
      },
      "outputs": [
        {
          "output_type": "stream",
          "name": "stdout",
          "text": [
            "0.8859315589353612\n"
          ]
        }
      ],
      "source": [
        "from nltk.tag import PerceptronTagger\n",
        "from nltk.corpus import treebank\n",
        "tagger = PerceptronTagger()\n",
        "gold_data = treebank.tagged_sents()[10:20]\n",
        "print(tagger.accuracy(gold_data))"
      ]
    },
    {
      "cell_type": "code",
      "execution_count": 8,
      "metadata": {
        "id": "-Sk-DYsQS0a4"
      },
      "outputs": [],
      "source": [
        "from nltk.tbl.template import Template\n",
        "from nltk.tag.brill import Pos, Word\n",
        "from nltk.tag import untag, RegexpTagger, BrillTaggerTrainer, UnigramTagger"
      ]
    },
    {
      "cell_type": "code",
      "execution_count": 9,
      "metadata": {
        "id": "ZBgdR0HxS0a5"
      },
      "outputs": [],
      "source": [
        "from nltk.corpus import treebank\n",
        "training_data = treebank.tagged_sents()[:100]\n",
        "baseline_data = treebank.tagged_sents()[100:200]\n",
        "gold_data = treebank.tagged_sents()[200:300]\n",
        "testing_data = [untag(s) for s in gold_data]"
      ]
    },
    {
      "cell_type": "code",
      "execution_count": 10,
      "metadata": {
        "id": "Viw_zaDOS0a5"
      },
      "outputs": [],
      "source": [
        "backoff = RegexpTagger([\n",
        "... (r'^-?[0-9]+(.[0-9]+)?$', 'CD'),   # cardinal numbers\n",
        "... (r'(The|the|A|a|An|an)$', 'AT'),   # articles\n",
        "... (r'.*able$', 'JJ'),                # adjectives\n",
        "... (r'.*ness$', 'NN'),                # nouns formed from adjectives\n",
        "... (r'.*ly$', 'RB'),                  # adverbs\n",
        "... (r'.*s$', 'NNS'),                  # plural nouns\n",
        "... (r'.*ing$', 'VBG'),                # gerunds\n",
        "... (r'.*ed$', 'VBD'),                 # past tense verbs\n",
        "... (r'.*', 'NN')                      # nouns (default)\n",
        "... ])"
      ]
    },
    {
      "cell_type": "code",
      "execution_count": 24,
      "metadata": {
        "id": "qNGZXuidS0a5",
        "outputId": "4ee061af-3811-4936-ccfa-6cc06a084a8a",
        "colab": {
          "base_uri": "https://localhost:8080/"
        }
      },
      "outputs": [
        {
          "output_type": "execute_result",
          "data": {
            "text/plain": [
              "0.245014245014245"
            ]
          },
          "metadata": {},
          "execution_count": 24
        }
      ],
      "source": [
        "backoff.accuracy(gold_data)"
      ]
    },
    {
      "cell_type": "code",
      "execution_count": 23,
      "metadata": {
        "id": "FaI2EougS0a6",
        "outputId": "5d86f611-b711-43a5-db92-871e8e92408d",
        "colab": {
          "base_uri": "https://localhost:8080/"
        }
      },
      "outputs": [
        {
          "output_type": "execute_result",
          "data": {
            "text/plain": [
              "0.5811965811965812"
            ]
          },
          "metadata": {},
          "execution_count": 23
        }
      ],
      "source": [
        "unigram_tagger = UnigramTagger(baseline_data)\n",
        "unigram_tagger.accuracy(gold_data)"
      ]
    },
    {
      "cell_type": "code",
      "execution_count": 13,
      "metadata": {
        "id": "Fvv3jFdAS0a6",
        "outputId": "6fc1dd59-3190-4679-aae0-2442d0464a89",
        "colab": {
          "base_uri": "https://localhost:8080/"
        }
      },
      "outputs": [
        {
          "output_type": "execute_result",
          "data": {
            "text/plain": [
              "[('I', 'NNP'),\n",
              " ('would', 'MD'),\n",
              " ('like', None),\n",
              " ('this', 'DT'),\n",
              " ('sentence', None),\n",
              " ('to', 'TO'),\n",
              " ('be', 'VB'),\n",
              " ('tagged', None)]"
            ]
          },
          "metadata": {},
          "execution_count": 13
        }
      ],
      "source": [
        "unigram_tagger.tag([\"I\", \"would\", \"like\", \"this\", \"sentence\", \"to\", \"be\", \"tagged\"])"
      ]
    },
    {
      "cell_type": "code",
      "execution_count": 22,
      "metadata": {
        "id": "d7sW5DT3S0a6",
        "outputId": "82d8d572-1fca-4d85-d30a-cbfdef83a104",
        "colab": {
          "base_uri": "https://localhost:8080/"
        }
      },
      "outputs": [
        {
          "output_type": "execute_result",
          "data": {
            "text/plain": [
              "0.7537647537647537"
            ]
          },
          "metadata": {},
          "execution_count": 22
        }
      ],
      "source": [
        "baseline = UnigramTagger(baseline_data, backoff=backoff)\n",
        "baseline.accuracy(gold_data)"
      ]
    },
    {
      "cell_type": "code",
      "execution_count": 15,
      "metadata": {
        "id": "8-zBfh7RS0a7"
      },
      "outputs": [],
      "source": [
        "Template._cleartemplates() #clear any templates created in earlier tests\n",
        "templates = [Template(Pos([-1])), Template(Pos([-1]), Word([0]))]"
      ]
    },
    {
      "cell_type": "code",
      "execution_count": 16,
      "metadata": {
        "id": "a5MNdRp2S0a7",
        "outputId": "2624541a-363f-472d-d0c5-ce2eba491345",
        "colab": {
          "base_uri": "https://localhost:8080/"
        }
      },
      "outputs": [
        {
          "output_type": "stream",
          "name": "stdout",
          "text": [
            "TBL train (fast) (seqs: 100; tokens: 2417; tpls: 2; min score: 2; min acc: None)\n",
            "Finding initial useful rules...\n",
            "    Found 618 useful rules.\n",
            "\n",
            "           B      |\n",
            "   S   F   r   O  |        Score = Fixed - Broken\n",
            "   c   i   o   t  |  R     Fixed = num tags changed incorrect -> correct\n",
            "   o   x   k   h  |  u     Broken = num tags changed correct -> incorrect\n",
            "   r   e   e   e  |  l     Other = num tags changed incorrect -> incorrect\n",
            "   e   d   n   r  |  e\n",
            "------------------+-------------------------------------------------------\n",
            "  13  14   1   4  | NN->VB if Pos:TO@[-1]\n",
            "   8   8   0   0  | NN->VB if Pos:MD@[-1]\n",
            "   7  10   3  22  | NN->IN if Pos:NNS@[-1]\n",
            "   5   5   0   0  | NN->VBP if Pos:PRP@[-1]\n",
            "   5   5   0   0  | VBD->VBN if Pos:VBZ@[-1]\n",
            "   5   5   0   0  | NNS->NN if Pos:IN@[-1] & Word:asbestos@[0]\n",
            "   4   4   0   0  | NN->-NONE- if Pos:WP@[-1]\n",
            "   4   4   0   3  | NN->NNP if Pos:-NONE-@[-1]\n",
            "   4   6   2   2  | NN->NNP if Pos:NNP@[-1]\n",
            "   4   4   0   0  | NNS->VBZ if Pos:PRP@[-1]\n"
          ]
        }
      ],
      "source": [
        "tt = BrillTaggerTrainer(baseline, templates, trace=3)\n",
        "tagger1 = tt.train(training_data, max_rules=10)"
      ]
    },
    {
      "cell_type": "code",
      "execution_count": 17,
      "metadata": {
        "id": "kd_i4mekS0a7",
        "outputId": "7bac6e0f-6612-483a-8817-85a426e4ca31",
        "colab": {
          "base_uri": "https://localhost:8080/"
        }
      },
      "outputs": [
        {
          "output_type": "execute_result",
          "data": {
            "text/plain": [
              "(Rule('000', 'NN', 'VB', [(Pos([-1]),'MD')]),\n",
              " Rule('000', 'NN', 'IN', [(Pos([-1]),'NNS')]))"
            ]
          },
          "metadata": {},
          "execution_count": 17
        }
      ],
      "source": [
        "tagger1.rules()[1:3]"
      ]
    },
    {
      "cell_type": "code",
      "execution_count": 18,
      "metadata": {
        "id": "9H_ExzJdS0a8",
        "outputId": "7627d72a-f903-40b0-f7ec-b7ad7c378619",
        "colab": {
          "base_uri": "https://localhost:8080/"
        }
      },
      "outputs": [
        {
          "output_type": "stream",
          "name": "stdout",
          "text": [
            "TEMPLATE STATISTICS (TRAIN)  2 templates, 10 rules)\n",
            "TRAIN (   2417 tokens) initial   555 0.7704 final:   496 0.7948\n",
            "#ID | Score (train) |  #Rules     | Template\n",
            "--------------------------------------------\n",
            "000 |    54   0.915 |   9   0.900 | Template(Pos([-1]))\n",
            "001 |     5   0.085 |   1   0.100 | Template(Pos([-1]),Word([0]))\n",
            "\n",
            "\n"
          ]
        }
      ],
      "source": [
        "tagger1.print_template_statistics(printunused=False)"
      ]
    },
    {
      "cell_type": "code",
      "execution_count": 21,
      "metadata": {
        "id": "BFqeOgW6S0a8",
        "outputId": "3d2aa27c-3e50-4a46-d19c-b079730cb818",
        "colab": {
          "base_uri": "https://localhost:8080/"
        }
      },
      "outputs": [
        {
          "output_type": "execute_result",
          "data": {
            "text/plain": [
              "0.7692307692307693"
            ]
          },
          "metadata": {},
          "execution_count": 21
        }
      ],
      "source": [
        "tagger1.accuracy(gold_data)"
      ]
    },
    {
      "cell_type": "code",
      "execution_count": 20,
      "metadata": {
        "id": "mGLhi_NNS0a8",
        "outputId": "9084de21-6cb0-46cf-8067-767a09fa9cb2",
        "colab": {
          "base_uri": "https://localhost:8080/"
        }
      },
      "outputs": [
        {
          "output_type": "execute_result",
          "data": {
            "text/plain": [
              "[('foreign', 'NN'),\n",
              " ('debt', 'NN'),\n",
              " ('of', 'IN'),\n",
              " ('$', '$'),\n",
              " ('64', 'CD'),\n",
              " ('billion', 'CD'),\n",
              " ('*U*', '-NONE-'),\n",
              " ('--', ':'),\n",
              " ('the', 'DT'),\n",
              " ('third-highest', 'NN'),\n",
              " ('in', 'IN'),\n",
              " ('the', 'DT'),\n",
              " ('developing', 'VBG'),\n",
              " ('world', 'NN'),\n",
              " ('.', '.')]"
            ]
          },
          "metadata": {},
          "execution_count": 20
        }
      ],
      "source": [
        "tagged, test_stats = tagger1.batch_tag_incremental(testing_data, gold_data)\n",
        "tagged[33][12:]"
      ]
    },
    {
      "cell_type": "code",
      "execution_count": null,
      "metadata": {
        "id": "zZmQIow5S0a8"
      },
      "outputs": [],
      "source": [
        "import nltk"
      ]
    },
    {
      "cell_type": "code",
      "execution_count": 26,
      "metadata": {
        "id": "uVtD3diHS0a8",
        "outputId": "18949d71-e613-4503-c73d-06ef0fa0c5fc",
        "colab": {
          "base_uri": "https://localhost:8080/"
        }
      },
      "outputs": [
        {
          "output_type": "stream",
          "name": "stdout",
          "text": [
            "The nltk version is 3.8.1.\n"
          ]
        }
      ],
      "source": [
        "print('The nltk version is {}.'.format(nltk.__version__))"
      ]
    },
    {
      "cell_type": "code",
      "execution_count": null,
      "metadata": {
        "id": "XaKxC7ToS0a9"
      },
      "outputs": [],
      "source": []
    }
  ],
  "metadata": {
    "kernelspec": {
      "display_name": "Python 3",
      "language": "python",
      "name": "python3"
    },
    "language_info": {
      "codemirror_mode": {
        "name": "ipython",
        "version": 3
      },
      "file_extension": ".py",
      "mimetype": "text/x-python",
      "name": "python",
      "nbconvert_exporter": "python",
      "pygments_lexer": "ipython3",
      "version": "3.8.5"
    },
    "colab": {
      "provenance": []
    }
  },
  "nbformat": 4,
  "nbformat_minor": 0
}